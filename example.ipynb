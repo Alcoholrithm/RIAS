{
 "cells": [
  {
   "cell_type": "code",
   "execution_count": null,
   "metadata": {},
   "outputs": [],
   "source": [
    "from runner.data_utils.base_datamodule import DataModule\n",
    "\n",
    "from sklearn.datasets import fetch_openml\n",
    "import os\n",
    "import pickle\n",
    "from types import SimpleNamespace\n",
    "from typing import Tuple, List\n",
    "import pandas as pd\n",
    "from sklearn.preprocessing import LabelEncoder\n",
    "import numpy as np\n",
    "\n",
    "class DiabetesDataModule(DataModule):\n",
    "    def __init__(self\n",
    "        ) -> None:\n",
    "        super().__init__('diabetes')\n",
    "    \n",
    "    def load_data(self) -> Tuple[pd.DataFrame, pd.Series]:\n",
    "        diabetes = fetch_openml(data_id = 37, data_home='./data_cache')\n",
    "\n",
    "        data = diabetes.data\n",
    "        \n",
    "        le = LabelEncoder()\n",
    "        label = pd.Series(le.fit_transform(diabetes.target))\n",
    "\n",
    "        return data, label\n",
    "    \n",
    "    def prepare_data(self) -> Tuple[pd.DataFrame, pd.Series, List[str], List[str]]:\n",
    "\n",
    "        data, label = self.load_data()\n",
    "\n",
    "        categorical_cols = []\n",
    "        \n",
    "        numeric_cols = list(map(str, data.columns))\n",
    "            \n",
    "        return data, label.values, numeric_cols, categorical_cols"
   ]
  },
  {
   "cell_type": "code",
   "execution_count": null,
   "metadata": {},
   "outputs": [],
   "source": [
    "test_size = 0.2\n",
    "random_seed = 42"
   ]
  },
  {
   "cell_type": "code",
   "execution_count": null,
   "metadata": {},
   "outputs": [],
   "source": [
    "from sklearn.model_selection import train_test_split\n",
    "from runner.data_utils.kamir  import KamirDataModule\n",
    "def prepare_data() -> Tuple[pd.DataFrame, np.array, pd.DataFrame, np.array]:\n",
    "    datamodule = DiabetesDataModule()\n",
    "    # import yaml\n",
    "    # with open('data_config/6M_mortality.yaml', 'rb') as f:\n",
    "    #     config = yaml.load(f, Loader=yaml.FullLoader)\n",
    "    # datamodule = KamirDataModule(\"binary\", SimpleNamespace(**config))\n",
    "    data, label, continuous_cols, categorical_cols = datamodule.prepare_data()\n",
    "\n",
    "    train_idx, test_idx, _, _ = train_test_split(np.arange(len(label)).reshape((-1, 1)), label, test_size=test_size, random_state=random_seed, stratify=label)\n",
    "    train_idx, test_idx = train_idx.ravel(), test_idx.ravel()\n",
    "\n",
    "    X_test, y_test = data.iloc[test_idx], label[test_idx]\n",
    "    data, label = data.iloc[train_idx], label[train_idx]\n",
    "    \n",
    "    return data, label, X_test, y_test, continuous_cols, categorical_cols"
   ]
  },
  {
   "cell_type": "code",
   "execution_count": null,
   "metadata": {},
   "outputs": [],
   "source": [
    "import importlib\n",
    "\n",
    "def prepare_config(target_config: str) -> SimpleNamespace:\n",
    "    configlib = importlib.import_module('runner.config')\n",
    "    config = getattr(configlib, target_config)\n",
    "    \n",
    "    config.model.out_dim = 2\n",
    "    \n",
    "    config.experiment.metric = \"accuracy_score\"\n",
    "    config.experiment.metric_params = []\n",
    "    config.experiment.data_config = \"diabetes\"\n",
    "    config.experiment.optuna.direction = 'maximize'\n",
    "    config.experiment.random_seed = random_seed\n",
    "    config.experiment.task = \"binary\"\n",
    "    \n",
    "    config.experiment.optuna.n_trials = 1\n",
    "    \n",
    "    config.experiment.calibrator = \"HistogramBinning\"\n",
    "    \n",
    "    config.experiment.KFold = 1\n",
    "    config.experiment.early_stopping_patience = 1\n",
    "    config.dice.backend = \"sklearn\"\n",
    "    config.dice.desired_class = 0\n",
    "    \n",
    "    config.experiment.fast_dev_run = True\n",
    "    return config"
   ]
  },
  {
   "cell_type": "code",
   "execution_count": null,
   "metadata": {},
   "outputs": [],
   "source": [
    "data, label, X_test, y_test, continuous_cols, categorical_cols = prepare_data()\n",
    "# continuous_cols = list(map(str, data.columns))\n",
    "# data.columns = continuous_cols\n",
    "config = prepare_config('xgb_config')"
   ]
  },
  {
   "cell_type": "code",
   "execution_count": null,
   "metadata": {},
   "outputs": [],
   "source": [
    "from runner.runner import Runner\n",
    "def prepare_runner(config: SimpleNamespace, X: pd.DataFrame, y: np.array, continuous_cols: List[str], categorical_cols: List[str]) -> Runner:\n",
    "    modellib = importlib.import_module('runner.models')\n",
    "    model_class = getattr(modellib, config.model.model_class)\n",
    "\n",
    "    runner = Runner(config = config, model_class=model_class, X=X, y = y, continuous_cols=continuous_cols, categorical_cols=categorical_cols)\n",
    "    \n",
    "    return runner"
   ]
  },
  {
   "cell_type": "code",
   "execution_count": null,
   "metadata": {},
   "outputs": [],
   "source": [
    "from runner.models import BaseModel\n",
    "from runner.misc.eval_metric import EvalMetric\n",
    "from sklearn.metrics import f1_score, recall_score, accuracy_score, confusion_matrix, accuracy_score\n",
    "from sklearn.metrics import roc_auc_score, recall_score, average_precision_score\n",
    "from typing import Type\n",
    "\n",
    "class DiabetesEvalMetric(EvalMetric):\n",
    "    def eval(self, model: Type[BaseModel], X_test: pd.DataFrame, y_test: np.array):\n",
    "        preds_proba = model.predict_proba(X_test)\n",
    "        preds = preds_proba.argmax(1)\n",
    "        \n",
    "        f1 = f1_score(y_test, preds)\n",
    "        roc = roc_auc_score(y_test, preds_proba[:, 1])\n",
    "        specificity = recall_score(np.logical_not(y_test) , np.logical_not(preds))\n",
    "        sensitivity = recall_score(y_test, preds)\n",
    "        accuracy = accuracy_score(y_test, preds)\n",
    "        pr_auc = average_precision_score(y_test, preds_proba[:, 1])\n",
    "        tn, fp, fn, tp = confusion_matrix(y_test, preds).ravel()\n",
    "        ppv = tp / (tp + fp)\n",
    "        npv = tn / (tn + fn)\n",
    "        \n",
    "        print(\"F1 Score: %.4f\" % f1)\n",
    "        print(\"ROC AUC Score: %.4f\" % roc)\n",
    "        print(\"Specificity Score: %.4f\" % specificity)\n",
    "        print(\"Sensitivity Score: %.4f\" % sensitivity)\n",
    "        print(\"Accuracy Score: %.4f\" % accuracy)\n",
    "        print(\"Precision Recall AUC Score: %.4f\" % pr_auc)\n",
    "        print(\"PPV Score: %.4f\" % ppv)\n",
    "        print(\"NPV Score: %.4f\" % npv)"
   ]
  },
  {
   "cell_type": "code",
   "execution_count": null,
   "metadata": {},
   "outputs": [],
   "source": [
    "runner = prepare_runner(config, data, label, continuous_cols, categorical_cols)\n",
    "\n",
    "runner.train()\n",
    "\n",
    "runner.init_calibrator()\n",
    "runner.test(X_test, y_test, DiabetesEvalMetric())"
   ]
  },
  {
   "cell_type": "code",
   "execution_count": null,
   "metadata": {},
   "outputs": [],
   "source": [
    "dice_d = X_test.copy()"
   ]
  },
  {
   "cell_type": "code",
   "execution_count": null,
   "metadata": {},
   "outputs": [],
   "source": [
    "dice = runner.dice(dice_d)"
   ]
  },
  {
   "cell_type": "code",
   "execution_count": null,
   "metadata": {},
   "outputs": [],
   "source": [
    "dice.visualize_as_dataframe()"
   ]
  },
  {
   "cell_type": "code",
   "execution_count": null,
   "metadata": {},
   "outputs": [],
   "source": [
    "import lime\n",
    "import lime.lime_tabular\n",
    "explainer = lime.lime_tabular.LimeTabularExplainer(data.values, feature_names=data.columns, class_names=[\"0\", \"1\"], verbose=True, mode='classification', discretize_continuous=True)"
   ]
  },
  {
   "cell_type": "code",
   "execution_count": null,
   "metadata": {},
   "outputs": [],
   "source": [
    "exp = explainer.explain_instance(X_test.iloc[0], runner.predict_proba, num_features=10)\n",
    "exp.show_in_notebook(show_table=True)"
   ]
  },
  {
   "cell_type": "code",
   "execution_count": null,
   "metadata": {},
   "outputs": [],
   "source": [
    "exp.save_to_file('temp.html')"
   ]
  },
  {
   "cell_type": "code",
   "execution_count": null,
   "metadata": {},
   "outputs": [],
   "source": [
    "shap_explainer = runner.shap(X_test)\n",
    "shap_values = shap_explainer(X_test)"
   ]
  },
  {
   "cell_type": "code",
   "execution_count": null,
   "metadata": {},
   "outputs": [],
   "source": [
    "import shap\n",
    "shap.plots.waterfall(shap_values[0])"
   ]
  },
  {
   "cell_type": "code",
   "execution_count": null,
   "metadata": {},
   "outputs": [],
   "source": [
    "shap.plots.beeswarm(shap_values)"
   ]
  }
 ],
 "metadata": {
  "kernelspec": {
   "display_name": "jamia",
   "language": "python",
   "name": "python3"
  },
  "language_info": {
   "codemirror_mode": {
    "name": "ipython",
    "version": 3
   },
   "file_extension": ".py",
   "mimetype": "text/x-python",
   "name": "python",
   "nbconvert_exporter": "python",
   "pygments_lexer": "ipython3",
   "version": "3.8.18"
  }
 },
 "nbformat": 4,
 "nbformat_minor": 2
}
