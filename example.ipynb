{
 "cells": [
  {
   "cell_type": "code",
   "execution_count": 1,
   "metadata": {},
   "outputs": [],
   "source": [
    "from runner.data_utils.base_datamodule import DataModule\n",
    "\n",
    "from sklearn.datasets import fetch_openml\n",
    "import os\n",
    "import pickle\n",
    "from types import SimpleNamespace\n",
    "from typing import Tuple, List\n",
    "import pandas as pd\n",
    "from sklearn.preprocessing import LabelEncoder\n",
    "import numpy as np\n",
    "\n",
    "class DiabetesDataModule(DataModule):\n",
    "    def __init__(self\n",
    "        ) -> None:\n",
    "        super().__init__('diabetes')\n",
    "    \n",
    "    def load_data(self) -> Tuple[pd.DataFrame, pd.Series]:\n",
    "        diabetes = fetch_openml(data_id = 37, data_home='./data_cache')\n",
    "\n",
    "        data = diabetes.data\n",
    "        \n",
    "        le = LabelEncoder()\n",
    "        label = pd.Series(le.fit_transform(diabetes.target))\n",
    "\n",
    "        return data, label\n",
    "    \n",
    "    def prepare_data(self) -> Tuple[pd.DataFrame, pd.Series, List[str], List[str]]:\n",
    "\n",
    "        data, label = self.load_data()\n",
    "\n",
    "        categorical_cols = []\n",
    "        \n",
    "        numeric_cols = list(map(str, data.columns))\n",
    "            \n",
    "        return data, label.values, numeric_cols, categorical_cols"
   ]
  },
  {
   "cell_type": "code",
   "execution_count": 2,
   "metadata": {},
   "outputs": [],
   "source": [
    "test_size = 0.2\n",
    "random_seed = 42"
   ]
  },
  {
   "cell_type": "code",
   "execution_count": 3,
   "metadata": {},
   "outputs": [],
   "source": [
    "from sklearn.model_selection import train_test_split\n",
    "\n",
    "def prepare_data() -> Tuple[pd.DataFrame, np.array, pd.DataFrame, np.array]:\n",
    "    datamodule = DiabetesDataModule()\n",
    "    \n",
    "    data, label, continuous_cols, categorical_cols = datamodule.prepare_data()\n",
    "\n",
    "    train_idx, test_idx, _, _ = train_test_split(np.arange(len(label)).reshape((-1, 1)), label, test_size=test_size, random_state=random_seed, stratify=label)\n",
    "    train_idx, test_idx = train_idx.ravel(), test_idx.ravel()\n",
    "\n",
    "    X_test, y_test = data.iloc[test_idx], label[test_idx]\n",
    "    data, label = data.iloc[train_idx], label[train_idx]\n",
    "    \n",
    "    return data, label, X_test, y_test, continuous_cols, categorical_cols"
   ]
  },
  {
   "cell_type": "code",
   "execution_count": 4,
   "metadata": {},
   "outputs": [],
   "source": [
    "import importlib\n",
    "\n",
    "def prepare_config(target_config: str) -> SimpleNamespace:\n",
    "    configlib = importlib.import_module('runner.config')\n",
    "    config = getattr(configlib, target_config)\n",
    "    \n",
    "    config.model.out_dim = 2\n",
    "    \n",
    "    config.experiment.metric = \"accuracy_score\"\n",
    "    config.experiment.metric_params = []\n",
    "    config.experiment.data_config = \"diabetes\"\n",
    "    config.experiment.optuna.direction = 'maximize'\n",
    "    config.experiment.random_seed = random_seed\n",
    "    config.experiment.task = \"binary\"\n",
    "    \n",
    "    config.experiment.optuna.n_trials = 1\n",
    "    \n",
    "    config.experiment.calibrator = \"HistogramBinning\"\n",
    "    \n",
    "    config.experiment.KFold = 1\n",
    "    config.experiment.early_stopping_patience = 1\n",
    "    config.dice.backend = \"sklearn\"\n",
    "    config.dice.desired_class = 1\n",
    "    return config"
   ]
  },
  {
   "cell_type": "code",
   "execution_count": 5,
   "metadata": {},
   "outputs": [],
   "source": [
    "data, label, X_test, y_test, continuous_cols, categorical_cols = prepare_data()\n",
    "continuous_cols = list(map(str, data.columns))\n",
    "data.columns = continuous_cols\n",
    "config = prepare_config('mlp_config')"
   ]
  },
  {
   "cell_type": "code",
   "execution_count": 6,
   "metadata": {},
   "outputs": [
    {
     "name": "stderr",
     "output_type": "stream",
     "text": [
      "/home/jamia/.conda/envs/jamia/lib/python3.8/site-packages/dice_ml/utils/exception.py:12: UserWarning: UserConfigValidationException will be deprecated from dice_ml.utils. Please import UserConfigValidationException from raiutils.exceptions.\n",
      "  warnings.warn(\"UserConfigValidationException will be deprecated from dice_ml.utils. \"\n",
      "/home/jamia/.conda/envs/jamia/lib/python3.8/site-packages/pytorch_tabular/models/mixture_density/mdn.py:25: UserWarning: Wandb not installed. WandbLogger will not work.\n",
      "  warnings.warn(\"Wandb not installed. WandbLogger will not work.\")\n"
     ]
    }
   ],
   "source": [
    "from runner.runner import Runner\n",
    "def prepare_runner(config: SimpleNamespace, X: pd.DataFrame, y: np.array, continuous_cols: List[str], categorical_cols: List[str]) -> Runner:\n",
    "    modellib = importlib.import_module('runner.models')\n",
    "    model_class = getattr(modellib, config.model.model_class)\n",
    "\n",
    "    runner = Runner(config = config, model_class=model_class, X=X, y = y, continuous_cols=continuous_cols, categorical_cols=categorical_cols)\n",
    "    \n",
    "    return runner"
   ]
  },
  {
   "cell_type": "code",
   "execution_count": 7,
   "metadata": {},
   "outputs": [],
   "source": [
    "from runner.models import BaseModel\n",
    "from runner.misc.eval_metric import EvalMetric\n",
    "from sklearn.metrics import f1_score, recall_score, accuracy_score, confusion_matrix, accuracy_score\n",
    "from sklearn.metrics import roc_auc_score, recall_score, average_precision_score\n",
    "from typing import Type\n",
    "\n",
    "class DiabetesEvalMetric(EvalMetric):\n",
    "    def eval(self, model: Type[BaseModel], X_test: pd.DataFrame, y_test: np.array):\n",
    "        preds_proba = model.predict_proba(X_test)\n",
    "        preds = preds_proba.argmax(1)\n",
    "        \n",
    "        f1 = f1_score(y_test, preds)\n",
    "        roc = roc_auc_score(y_test, preds_proba[:, 1])\n",
    "        specificity = recall_score(np.logical_not(y_test) , np.logical_not(preds))\n",
    "        sensitivity = recall_score(y_test, preds)\n",
    "        accuracy = accuracy_score(y_test, preds)\n",
    "        pr_auc = average_precision_score(y_test, preds_proba[:, 1])\n",
    "        tn, fp, fn, tp = confusion_matrix(y_test, preds).ravel()\n",
    "        ppv = tp / (tp + fp)\n",
    "        npv = tn / (tn + fn)\n",
    "        \n",
    "        print(\"F1 Score: %.4f\" % f1)\n",
    "        print(\"ROC AUC Score: %.4f\" % roc)\n",
    "        print(\"Specificity Score: %.4f\" % specificity)\n",
    "        print(\"Sensitivity Score: %.4f\" % sensitivity)\n",
    "        print(\"Accuracy Score: %.4f\" % accuracy)\n",
    "        print(\"Precision Recall AUC Score: %.4f\" % pr_auc)\n",
    "        print(\"PPV Score: %.4f\" % ppv)\n",
    "        print(\"NPV Score: %.4f\" % npv)"
   ]
  },
  {
   "cell_type": "code",
   "execution_count": 8,
   "metadata": {},
   "outputs": [
    {
     "name": "stderr",
     "output_type": "stream",
     "text": [
      "2023-10-06 23:33:03.144559: I tensorflow/core/platform/cpu_feature_guard.cc:182] This TensorFlow binary is optimized to use available CPU instructions in performance-critical operations.\n",
      "To enable the following instructions: AVX2 FMA, in other operations, rebuild TensorFlow with the appropriate compiler flags.\n",
      "2023-10-06 23:33:03.787291: W tensorflow/compiler/tf2tensorrt/utils/py_utils.cc:38] TF-TRT Warning: Could not find TensorRT\n",
      "[I 2023-10-06 23:33:04,334] A new study created in memory with name: no-name-63230beb-179e-4835-a3b6-a6fa12a67d49\n",
      "2023-10-06 23:33:04,349 - {pytorch_tabular.tabular_model:105} - INFO - Experiment Tracking is turned off\n",
      "Global seed set to 42\n",
      "2023-10-06 23:33:04,367 - {pytorch_tabular.tabular_model:473} - INFO - Preparing the DataLoaders\n",
      "2023-10-06 23:33:04,367 - {pytorch_tabular.tabular_datamodule:290} - INFO - Setting up the datamodule for classification task\n",
      "2023-10-06 23:33:04,377 - {pytorch_tabular.tabular_model:521} - INFO - Preparing the Model: CategoryEmbeddingModel\n",
      "/home/jamia/.conda/envs/jamia/lib/python3.8/site-packages/pytorch_tabular/models/base_model.py:140: UserWarning: Wandb is not installed. Please install wandb to log logits. You can install wandb using pip install wandb or install PyTorch Tabular using pip install pytorch-tabular[all]\n",
      "  warnings.warn(\n",
      "2023-10-06 23:33:04,392 - {pytorch_tabular.tabular_model:268} - INFO - Preparing the Trainer\n",
      "/home/jamia/.conda/envs/jamia/lib/python3.8/site-packages/pytorch_lightning/trainer/connectors/accelerator_connector.py:589: LightningDeprecationWarning: The Trainer argument `auto_select_gpus` has been deprecated in v1.9.0 and will be removed in v2.0.0. Please use the function `pytorch_lightning.accelerators.find_usable_cuda_devices` instead.\n",
      "  rank_zero_deprecation(\n",
      "GPU available: True (cuda), used: True\n",
      "TPU available: False, using: 0 TPU cores\n",
      "IPU available: False, using: 0 IPUs\n",
      "HPU available: False, using: 0 HPUs\n",
      "2023-10-06 23:33:05,034 - {pytorch_tabular.tabular_model:582} - INFO - Training Started\n",
      "You are using a CUDA device ('NVIDIA RTX A6000') that has Tensor Cores. To properly utilize them, you should set `torch.set_float32_matmul_precision('medium' | 'high')` which will trade-off precision for performance. For more details, read https://pytorch.org/docs/stable/generated/torch.set_float32_matmul_precision.html#torch.set_float32_matmul_precision\n",
      "LOCAL_RANK: 0 - CUDA_VISIBLE_DEVICES: [1]\n"
     ]
    },
    {
     "data": {
      "text/html": [
       "<pre style=\"white-space:pre;overflow-x:auto;line-height:normal;font-family:Menlo,'DejaVu Sans Mono',consolas,'Courier New',monospace\">┏━━━┳━━━━━━━━━━━━━━━━━━┳━━━━━━━━━━━━━━━━━━━━━━━━━━━┳━━━━━━━━┓\n",
       "┃<span style=\"color: #800080; text-decoration-color: #800080; font-weight: bold\">   </span>┃<span style=\"color: #800080; text-decoration-color: #800080; font-weight: bold\"> Name             </span>┃<span style=\"color: #800080; text-decoration-color: #800080; font-weight: bold\"> Type                      </span>┃<span style=\"color: #800080; text-decoration-color: #800080; font-weight: bold\"> Params </span>┃\n",
       "┡━━━╇━━━━━━━━━━━━━━━━━━╇━━━━━━━━━━━━━━━━━━━━━━━━━━━╇━━━━━━━━┩\n",
       "│<span style=\"color: #7f7f7f; text-decoration-color: #7f7f7f\"> 0 </span>│ custom_loss      │ CrossEntropyLoss          │      0 │\n",
       "│<span style=\"color: #7f7f7f; text-decoration-color: #7f7f7f\"> 1 </span>│ _backbone        │ CategoryEmbeddingBackbone │ 11.5 K │\n",
       "│<span style=\"color: #7f7f7f; text-decoration-color: #7f7f7f\"> 2 </span>│ _embedding_layer │ Embedding1dLayer          │     16 │\n",
       "│<span style=\"color: #7f7f7f; text-decoration-color: #7f7f7f\"> 3 </span>│ head             │ LinearHead                │     66 │\n",
       "└───┴──────────────────┴───────────────────────────┴────────┘\n",
       "</pre>\n"
      ],
      "text/plain": [
       "┏━━━┳━━━━━━━━━━━━━━━━━━┳━━━━━━━━━━━━━━━━━━━━━━━━━━━┳━━━━━━━━┓\n",
       "┃\u001b[1;35m \u001b[0m\u001b[1;35m \u001b[0m\u001b[1;35m \u001b[0m┃\u001b[1;35m \u001b[0m\u001b[1;35mName            \u001b[0m\u001b[1;35m \u001b[0m┃\u001b[1;35m \u001b[0m\u001b[1;35mType                     \u001b[0m\u001b[1;35m \u001b[0m┃\u001b[1;35m \u001b[0m\u001b[1;35mParams\u001b[0m\u001b[1;35m \u001b[0m┃\n",
       "┡━━━╇━━━━━━━━━━━━━━━━━━╇━━━━━━━━━━━━━━━━━━━━━━━━━━━╇━━━━━━━━┩\n",
       "│\u001b[2m \u001b[0m\u001b[2m0\u001b[0m\u001b[2m \u001b[0m│ custom_loss      │ CrossEntropyLoss          │      0 │\n",
       "│\u001b[2m \u001b[0m\u001b[2m1\u001b[0m\u001b[2m \u001b[0m│ _backbone        │ CategoryEmbeddingBackbone │ 11.5 K │\n",
       "│\u001b[2m \u001b[0m\u001b[2m2\u001b[0m\u001b[2m \u001b[0m│ _embedding_layer │ Embedding1dLayer          │     16 │\n",
       "│\u001b[2m \u001b[0m\u001b[2m3\u001b[0m\u001b[2m \u001b[0m│ head             │ LinearHead                │     66 │\n",
       "└───┴──────────────────┴───────────────────────────┴────────┘\n"
      ]
     },
     "metadata": {},
     "output_type": "display_data"
    },
    {
     "data": {
      "text/html": [
       "<pre style=\"white-space:pre;overflow-x:auto;line-height:normal;font-family:Menlo,'DejaVu Sans Mono',consolas,'Courier New',monospace\"><span style=\"font-weight: bold\">Trainable params</span>: 11.6 K                                                                                           \n",
       "<span style=\"font-weight: bold\">Non-trainable params</span>: 0                                                                                            \n",
       "<span style=\"font-weight: bold\">Total params</span>: 11.6 K                                                                                               \n",
       "<span style=\"font-weight: bold\">Total estimated model params size (MB)</span>: 0                                                                          \n",
       "</pre>\n"
      ],
      "text/plain": [
       "\u001b[1mTrainable params\u001b[0m: 11.6 K                                                                                           \n",
       "\u001b[1mNon-trainable params\u001b[0m: 0                                                                                            \n",
       "\u001b[1mTotal params\u001b[0m: 11.6 K                                                                                               \n",
       "\u001b[1mTotal estimated model params size (MB)\u001b[0m: 0                                                                          \n"
      ]
     },
     "metadata": {},
     "output_type": "display_data"
    },
    {
     "data": {
      "application/vnd.jupyter.widget-view+json": {
       "model_id": "1e499d29855343d191ec153bfe9889ca",
       "version_major": 2,
       "version_minor": 0
      },
      "text/plain": [
       "Output()"
      ]
     },
     "metadata": {},
     "output_type": "display_data"
    },
    {
     "data": {
      "text/html": [
       "<pre style=\"white-space:pre;overflow-x:auto;line-height:normal;font-family:Menlo,'DejaVu Sans Mono',consolas,'Courier New',monospace\">/home/jamia/.conda/envs/jamia/lib/python3.8/site-packages/pytorch_lightning/core/module.py:493: UserWarning: You \n",
       "called `self.log('valid_loss', ..., logger=True)` but have no logger configured. You can enable one by doing \n",
       "`Trainer(logger=ALogger(...))`\n",
       "  rank_zero_warn(\n",
       "</pre>\n"
      ],
      "text/plain": [
       "/home/jamia/.conda/envs/jamia/lib/python3.8/site-packages/pytorch_lightning/core/module.py:493: UserWarning: You \n",
       "called `self.log('valid_loss', ..., logger=True)` but have no logger configured. You can enable one by doing \n",
       "`Trainer(logger=ALogger(...))`\n",
       "  rank_zero_warn(\n"
      ]
     },
     "metadata": {},
     "output_type": "display_data"
    },
    {
     "data": {
      "text/html": [
       "<pre style=\"white-space:pre;overflow-x:auto;line-height:normal;font-family:Menlo,'DejaVu Sans Mono',consolas,'Courier New',monospace\">/home/jamia/.conda/envs/jamia/lib/python3.8/site-packages/pytorch_lightning/core/module.py:493: UserWarning: You \n",
       "called `self.log('valid_accuracy', ..., logger=True)` but have no logger configured. You can enable one by doing \n",
       "`Trainer(logger=ALogger(...))`\n",
       "  rank_zero_warn(\n",
       "</pre>\n"
      ],
      "text/plain": [
       "/home/jamia/.conda/envs/jamia/lib/python3.8/site-packages/pytorch_lightning/core/module.py:493: UserWarning: You \n",
       "called `self.log('valid_accuracy', ..., logger=True)` but have no logger configured. You can enable one by doing \n",
       "`Trainer(logger=ALogger(...))`\n",
       "  rank_zero_warn(\n"
      ]
     },
     "metadata": {},
     "output_type": "display_data"
    },
    {
     "data": {
      "text/html": [
       "<pre style=\"white-space:pre;overflow-x:auto;line-height:normal;font-family:Menlo,'DejaVu Sans Mono',consolas,'Courier New',monospace\">/home/jamia/.conda/envs/jamia/lib/python3.8/site-packages/pytorch_lightning/core/module.py:493: UserWarning: You \n",
       "called `self.log('train_loss', ..., logger=True)` but have no logger configured. You can enable one by doing \n",
       "`Trainer(logger=ALogger(...))`\n",
       "  rank_zero_warn(\n",
       "</pre>\n"
      ],
      "text/plain": [
       "/home/jamia/.conda/envs/jamia/lib/python3.8/site-packages/pytorch_lightning/core/module.py:493: UserWarning: You \n",
       "called `self.log('train_loss', ..., logger=True)` but have no logger configured. You can enable one by doing \n",
       "`Trainer(logger=ALogger(...))`\n",
       "  rank_zero_warn(\n"
      ]
     },
     "metadata": {},
     "output_type": "display_data"
    },
    {
     "data": {
      "text/html": [
       "<pre style=\"white-space:pre;overflow-x:auto;line-height:normal;font-family:Menlo,'DejaVu Sans Mono',consolas,'Courier New',monospace\">/home/jamia/.conda/envs/jamia/lib/python3.8/site-packages/pytorch_lightning/core/module.py:493: UserWarning: You \n",
       "called `self.log('train_accuracy', ..., logger=True)` but have no logger configured. You can enable one by doing \n",
       "`Trainer(logger=ALogger(...))`\n",
       "  rank_zero_warn(\n",
       "</pre>\n"
      ],
      "text/plain": [
       "/home/jamia/.conda/envs/jamia/lib/python3.8/site-packages/pytorch_lightning/core/module.py:493: UserWarning: You \n",
       "called `self.log('train_accuracy', ..., logger=True)` but have no logger configured. You can enable one by doing \n",
       "`Trainer(logger=ALogger(...))`\n",
       "  rank_zero_warn(\n"
      ]
     },
     "metadata": {},
     "output_type": "display_data"
    },
    {
     "data": {
      "text/html": [
       "<pre style=\"white-space:pre;overflow-x:auto;line-height:normal;font-family:Menlo,'DejaVu Sans Mono',consolas,'Courier New',monospace\"></pre>\n"
      ],
      "text/plain": []
     },
     "metadata": {},
     "output_type": "display_data"
    },
    {
     "data": {
      "text/html": [
       "<pre style=\"white-space:pre;overflow-x:auto;line-height:normal;font-family:Menlo,'DejaVu Sans Mono',consolas,'Courier New',monospace\">\n",
       "</pre>\n"
      ],
      "text/plain": [
       "\n"
      ]
     },
     "metadata": {},
     "output_type": "display_data"
    },
    {
     "name": "stderr",
     "output_type": "stream",
     "text": [
      "2023-10-06 23:34:24,196 - {pytorch_tabular.tabular_model:584} - INFO - Training the model completed\n",
      "2023-10-06 23:34:24,196 - {pytorch_tabular.tabular_model:1267} - WARNING - No best model available to load. Checkpoint Callback needs to be enabled for this to work\n"
     ]
    },
    {
     "data": {
      "application/vnd.jupyter.widget-view+json": {
       "model_id": "704be8d0bcdb46f6a0b269af7cf73f05",
       "version_major": 2,
       "version_minor": 0
      },
      "text/plain": [
       "Output()"
      ]
     },
     "metadata": {},
     "output_type": "display_data"
    },
    {
     "name": "stdout",
     "output_type": "stream",
     "text": [
      "<class 'pandas.core.frame.DataFrame'> (123, 8)\n"
     ]
    },
    {
     "data": {
      "text/html": [
       "<pre style=\"white-space:pre;overflow-x:auto;line-height:normal;font-family:Menlo,'DejaVu Sans Mono',consolas,'Courier New',monospace\"></pre>\n"
      ],
      "text/plain": []
     },
     "metadata": {},
     "output_type": "display_data"
    },
    {
     "data": {
      "text/html": [
       "<pre style=\"white-space:pre;overflow-x:auto;line-height:normal;font-family:Menlo,'DejaVu Sans Mono',consolas,'Courier New',monospace\">\n",
       "</pre>\n"
      ],
      "text/plain": [
       "\n"
      ]
     },
     "metadata": {},
     "output_type": "display_data"
    },
    {
     "name": "stderr",
     "output_type": "stream",
     "text": [
      "[I 2023-10-06 23:34:26,093] Trial 0 finished with value: 0.6260162601626016 and parameters: {'embedding_dropout': 0.0749080237694725, 'layers': '128-64-32', 'activation': 'ReLU', 'learning_rate': 0.043322189674169266}. Best is trial 0 with value: 0.6260162601626016.\n",
      "2023-10-06 23:34:26,104 - {pytorch_tabular.tabular_model:105} - INFO - Experiment Tracking is turned off\n",
      "Global seed set to 42\n",
      "2023-10-06 23:34:26,119 - {pytorch_tabular.tabular_model:473} - INFO - Preparing the DataLoaders\n",
      "2023-10-06 23:34:26,120 - {pytorch_tabular.tabular_datamodule:290} - INFO - Setting up the datamodule for classification task\n",
      "2023-10-06 23:34:26,129 - {pytorch_tabular.tabular_model:521} - INFO - Preparing the Model: CategoryEmbeddingModel\n",
      "/home/jamia/.conda/envs/jamia/lib/python3.8/site-packages/pytorch_tabular/models/base_model.py:140: UserWarning: Wandb is not installed. Please install wandb to log logits. You can install wandb using pip install wandb or install PyTorch Tabular using pip install pytorch-tabular[all]\n",
      "  warnings.warn(\n",
      "2023-10-06 23:34:26,144 - {pytorch_tabular.tabular_model:268} - INFO - Preparing the Trainer\n",
      "/home/jamia/.conda/envs/jamia/lib/python3.8/site-packages/pytorch_lightning/trainer/connectors/accelerator_connector.py:589: LightningDeprecationWarning: The Trainer argument `auto_select_gpus` has been deprecated in v1.9.0 and will be removed in v2.0.0. Please use the function `pytorch_lightning.accelerators.find_usable_cuda_devices` instead.\n",
      "  rank_zero_deprecation(\n",
      "GPU available: True (cuda), used: True\n",
      "TPU available: False, using: 0 TPU cores\n",
      "IPU available: False, using: 0 IPUs\n",
      "HPU available: False, using: 0 HPUs\n",
      "2023-10-06 23:34:26,157 - {pytorch_tabular.tabular_model:582} - INFO - Training Started\n",
      "You are using a CUDA device ('NVIDIA RTX A6000') that has Tensor Cores. To properly utilize them, you should set `torch.set_float32_matmul_precision('medium' | 'high')` which will trade-off precision for performance. For more details, read https://pytorch.org/docs/stable/generated/torch.set_float32_matmul_precision.html#torch.set_float32_matmul_precision\n",
      "LOCAL_RANK: 0 - CUDA_VISIBLE_DEVICES: [1]\n"
     ]
    },
    {
     "name": "stdout",
     "output_type": "stream",
     "text": [
      "Best Parameters\n",
      "{'embedding_dropout': 0.0749080237694725, 'layers': '128-64-32', 'activation': 'ReLU', 'learning_rate': 0.043322189674169266}\n"
     ]
    },
    {
     "data": {
      "text/html": [
       "<pre style=\"white-space:pre;overflow-x:auto;line-height:normal;font-family:Menlo,'DejaVu Sans Mono',consolas,'Courier New',monospace\">┏━━━┳━━━━━━━━━━━━━━━━━━┳━━━━━━━━━━━━━━━━━━━━━━━━━━━┳━━━━━━━━┓\n",
       "┃<span style=\"color: #800080; text-decoration-color: #800080; font-weight: bold\">   </span>┃<span style=\"color: #800080; text-decoration-color: #800080; font-weight: bold\"> Name             </span>┃<span style=\"color: #800080; text-decoration-color: #800080; font-weight: bold\"> Type                      </span>┃<span style=\"color: #800080; text-decoration-color: #800080; font-weight: bold\"> Params </span>┃\n",
       "┡━━━╇━━━━━━━━━━━━━━━━━━╇━━━━━━━━━━━━━━━━━━━━━━━━━━━╇━━━━━━━━┩\n",
       "│<span style=\"color: #7f7f7f; text-decoration-color: #7f7f7f\"> 0 </span>│ custom_loss      │ CrossEntropyLoss          │      0 │\n",
       "│<span style=\"color: #7f7f7f; text-decoration-color: #7f7f7f\"> 1 </span>│ _backbone        │ CategoryEmbeddingBackbone │ 11.5 K │\n",
       "│<span style=\"color: #7f7f7f; text-decoration-color: #7f7f7f\"> 2 </span>│ _embedding_layer │ Embedding1dLayer          │     16 │\n",
       "│<span style=\"color: #7f7f7f; text-decoration-color: #7f7f7f\"> 3 </span>│ head             │ LinearHead                │     66 │\n",
       "└───┴──────────────────┴───────────────────────────┴────────┘\n",
       "</pre>\n"
      ],
      "text/plain": [
       "┏━━━┳━━━━━━━━━━━━━━━━━━┳━━━━━━━━━━━━━━━━━━━━━━━━━━━┳━━━━━━━━┓\n",
       "┃\u001b[1;35m \u001b[0m\u001b[1;35m \u001b[0m\u001b[1;35m \u001b[0m┃\u001b[1;35m \u001b[0m\u001b[1;35mName            \u001b[0m\u001b[1;35m \u001b[0m┃\u001b[1;35m \u001b[0m\u001b[1;35mType                     \u001b[0m\u001b[1;35m \u001b[0m┃\u001b[1;35m \u001b[0m\u001b[1;35mParams\u001b[0m\u001b[1;35m \u001b[0m┃\n",
       "┡━━━╇━━━━━━━━━━━━━━━━━━╇━━━━━━━━━━━━━━━━━━━━━━━━━━━╇━━━━━━━━┩\n",
       "│\u001b[2m \u001b[0m\u001b[2m0\u001b[0m\u001b[2m \u001b[0m│ custom_loss      │ CrossEntropyLoss          │      0 │\n",
       "│\u001b[2m \u001b[0m\u001b[2m1\u001b[0m\u001b[2m \u001b[0m│ _backbone        │ CategoryEmbeddingBackbone │ 11.5 K │\n",
       "│\u001b[2m \u001b[0m\u001b[2m2\u001b[0m\u001b[2m \u001b[0m│ _embedding_layer │ Embedding1dLayer          │     16 │\n",
       "│\u001b[2m \u001b[0m\u001b[2m3\u001b[0m\u001b[2m \u001b[0m│ head             │ LinearHead                │     66 │\n",
       "└───┴──────────────────┴───────────────────────────┴────────┘\n"
      ]
     },
     "metadata": {},
     "output_type": "display_data"
    },
    {
     "data": {
      "text/html": [
       "<pre style=\"white-space:pre;overflow-x:auto;line-height:normal;font-family:Menlo,'DejaVu Sans Mono',consolas,'Courier New',monospace\"><span style=\"font-weight: bold\">Trainable params</span>: 11.6 K                                                                                           \n",
       "<span style=\"font-weight: bold\">Non-trainable params</span>: 0                                                                                            \n",
       "<span style=\"font-weight: bold\">Total params</span>: 11.6 K                                                                                               \n",
       "<span style=\"font-weight: bold\">Total estimated model params size (MB)</span>: 0                                                                          \n",
       "</pre>\n"
      ],
      "text/plain": [
       "\u001b[1mTrainable params\u001b[0m: 11.6 K                                                                                           \n",
       "\u001b[1mNon-trainable params\u001b[0m: 0                                                                                            \n",
       "\u001b[1mTotal params\u001b[0m: 11.6 K                                                                                               \n",
       "\u001b[1mTotal estimated model params size (MB)\u001b[0m: 0                                                                          \n"
      ]
     },
     "metadata": {},
     "output_type": "display_data"
    },
    {
     "data": {
      "application/vnd.jupyter.widget-view+json": {
       "model_id": "1a2168da12b243cbad9dba278ad9d950",
       "version_major": 2,
       "version_minor": 0
      },
      "text/plain": [
       "Output()"
      ]
     },
     "metadata": {},
     "output_type": "display_data"
    },
    {
     "data": {
      "text/html": [
       "<pre style=\"white-space:pre;overflow-x:auto;line-height:normal;font-family:Menlo,'DejaVu Sans Mono',consolas,'Courier New',monospace\">/home/jamia/.conda/envs/jamia/lib/python3.8/site-packages/pytorch_lightning/core/module.py:493: UserWarning: You \n",
       "called `self.log('valid_loss', ..., logger=True)` but have no logger configured. You can enable one by doing \n",
       "`Trainer(logger=ALogger(...))`\n",
       "  rank_zero_warn(\n",
       "</pre>\n"
      ],
      "text/plain": [
       "/home/jamia/.conda/envs/jamia/lib/python3.8/site-packages/pytorch_lightning/core/module.py:493: UserWarning: You \n",
       "called `self.log('valid_loss', ..., logger=True)` but have no logger configured. You can enable one by doing \n",
       "`Trainer(logger=ALogger(...))`\n",
       "  rank_zero_warn(\n"
      ]
     },
     "metadata": {},
     "output_type": "display_data"
    },
    {
     "data": {
      "text/html": [
       "<pre style=\"white-space:pre;overflow-x:auto;line-height:normal;font-family:Menlo,'DejaVu Sans Mono',consolas,'Courier New',monospace\">/home/jamia/.conda/envs/jamia/lib/python3.8/site-packages/pytorch_lightning/core/module.py:493: UserWarning: You \n",
       "called `self.log('valid_accuracy', ..., logger=True)` but have no logger configured. You can enable one by doing \n",
       "`Trainer(logger=ALogger(...))`\n",
       "  rank_zero_warn(\n",
       "</pre>\n"
      ],
      "text/plain": [
       "/home/jamia/.conda/envs/jamia/lib/python3.8/site-packages/pytorch_lightning/core/module.py:493: UserWarning: You \n",
       "called `self.log('valid_accuracy', ..., logger=True)` but have no logger configured. You can enable one by doing \n",
       "`Trainer(logger=ALogger(...))`\n",
       "  rank_zero_warn(\n"
      ]
     },
     "metadata": {},
     "output_type": "display_data"
    },
    {
     "data": {
      "text/html": [
       "<pre style=\"white-space:pre;overflow-x:auto;line-height:normal;font-family:Menlo,'DejaVu Sans Mono',consolas,'Courier New',monospace\">/home/jamia/.conda/envs/jamia/lib/python3.8/site-packages/pytorch_lightning/core/module.py:493: UserWarning: You \n",
       "called `self.log('train_loss', ..., logger=True)` but have no logger configured. You can enable one by doing \n",
       "`Trainer(logger=ALogger(...))`\n",
       "  rank_zero_warn(\n",
       "</pre>\n"
      ],
      "text/plain": [
       "/home/jamia/.conda/envs/jamia/lib/python3.8/site-packages/pytorch_lightning/core/module.py:493: UserWarning: You \n",
       "called `self.log('train_loss', ..., logger=True)` but have no logger configured. You can enable one by doing \n",
       "`Trainer(logger=ALogger(...))`\n",
       "  rank_zero_warn(\n"
      ]
     },
     "metadata": {},
     "output_type": "display_data"
    },
    {
     "data": {
      "text/html": [
       "<pre style=\"white-space:pre;overflow-x:auto;line-height:normal;font-family:Menlo,'DejaVu Sans Mono',consolas,'Courier New',monospace\">/home/jamia/.conda/envs/jamia/lib/python3.8/site-packages/pytorch_lightning/core/module.py:493: UserWarning: You \n",
       "called `self.log('train_accuracy', ..., logger=True)` but have no logger configured. You can enable one by doing \n",
       "`Trainer(logger=ALogger(...))`\n",
       "  rank_zero_warn(\n",
       "</pre>\n"
      ],
      "text/plain": [
       "/home/jamia/.conda/envs/jamia/lib/python3.8/site-packages/pytorch_lightning/core/module.py:493: UserWarning: You \n",
       "called `self.log('train_accuracy', ..., logger=True)` but have no logger configured. You can enable one by doing \n",
       "`Trainer(logger=ALogger(...))`\n",
       "  rank_zero_warn(\n"
      ]
     },
     "metadata": {},
     "output_type": "display_data"
    },
    {
     "data": {
      "text/html": [
       "<pre style=\"white-space:pre;overflow-x:auto;line-height:normal;font-family:Menlo,'DejaVu Sans Mono',consolas,'Courier New',monospace\"></pre>\n"
      ],
      "text/plain": []
     },
     "metadata": {},
     "output_type": "display_data"
    },
    {
     "data": {
      "text/html": [
       "<pre style=\"white-space:pre;overflow-x:auto;line-height:normal;font-family:Menlo,'DejaVu Sans Mono',consolas,'Courier New',monospace\">\n",
       "</pre>\n"
      ],
      "text/plain": [
       "\n"
      ]
     },
     "metadata": {},
     "output_type": "display_data"
    },
    {
     "name": "stderr",
     "output_type": "stream",
     "text": [
      "2023-10-06 23:34:40,385 - {pytorch_tabular.tabular_model:584} - INFO - Training the model completed\n",
      "2023-10-06 23:34:40,386 - {pytorch_tabular.tabular_model:1267} - WARNING - No best model available to load. Checkpoint Callback needs to be enabled for this to work\n"
     ]
    },
    {
     "data": {
      "application/vnd.jupyter.widget-view+json": {
       "model_id": "b6690f0633c244139d9d418949179461",
       "version_major": 2,
       "version_minor": 0
      },
      "text/plain": [
       "Output()"
      ]
     },
     "metadata": {},
     "output_type": "display_data"
    },
    {
     "name": "stdout",
     "output_type": "stream",
     "text": [
      "<class 'pandas.core.frame.DataFrame'> (123, 8)\n"
     ]
    },
    {
     "data": {
      "text/html": [
       "<pre style=\"white-space:pre;overflow-x:auto;line-height:normal;font-family:Menlo,'DejaVu Sans Mono',consolas,'Courier New',monospace\"></pre>\n"
      ],
      "text/plain": []
     },
     "metadata": {},
     "output_type": "display_data"
    },
    {
     "data": {
      "text/html": [
       "<pre style=\"white-space:pre;overflow-x:auto;line-height:normal;font-family:Menlo,'DejaVu Sans Mono',consolas,'Courier New',monospace\">\n",
       "</pre>\n"
      ],
      "text/plain": [
       "\n"
      ]
     },
     "metadata": {},
     "output_type": "display_data"
    },
    {
     "data": {
      "application/vnd.jupyter.widget-view+json": {
       "model_id": "f309e7aacf314a28b5dbce8de03e5222",
       "version_major": 2,
       "version_minor": 0
      },
      "text/plain": [
       "Output()"
      ]
     },
     "metadata": {},
     "output_type": "display_data"
    },
    {
     "name": "stdout",
     "output_type": "stream",
     "text": [
      "Validation Score: 0.6260\n",
      "<class 'pandas.core.frame.DataFrame'> (123, 8)\n"
     ]
    },
    {
     "data": {
      "text/html": [
       "<pre style=\"white-space:pre;overflow-x:auto;line-height:normal;font-family:Menlo,'DejaVu Sans Mono',consolas,'Courier New',monospace\"></pre>\n"
      ],
      "text/plain": []
     },
     "metadata": {},
     "output_type": "display_data"
    },
    {
     "data": {
      "text/html": [
       "<pre style=\"white-space:pre;overflow-x:auto;line-height:normal;font-family:Menlo,'DejaVu Sans Mono',consolas,'Courier New',monospace\">\n",
       "</pre>\n"
      ],
      "text/plain": [
       "\n"
      ]
     },
     "metadata": {},
     "output_type": "display_data"
    },
    {
     "data": {
      "application/vnd.jupyter.widget-view+json": {
       "model_id": "6dd4984bc5804e649799be6b4c10c678",
       "version_major": 2,
       "version_minor": 0
      },
      "text/plain": [
       "Output()"
      ]
     },
     "metadata": {},
     "output_type": "display_data"
    },
    {
     "name": "stdout",
     "output_type": "stream",
     "text": [
      "Uncalibrated ECE : 0.22770648581975297\n",
      "Calibrated ECE : 4.197184605290226e-17\n",
      "<class 'pandas.core.frame.DataFrame'> (154, 8)\n"
     ]
    },
    {
     "data": {
      "text/html": [
       "<pre style=\"white-space:pre;overflow-x:auto;line-height:normal;font-family:Menlo,'DejaVu Sans Mono',consolas,'Courier New',monospace\"></pre>\n"
      ],
      "text/plain": []
     },
     "metadata": {},
     "output_type": "display_data"
    },
    {
     "data": {
      "text/html": [
       "<pre style=\"white-space:pre;overflow-x:auto;line-height:normal;font-family:Menlo,'DejaVu Sans Mono',consolas,'Courier New',monospace\">\n",
       "</pre>\n"
      ],
      "text/plain": [
       "\n"
      ]
     },
     "metadata": {},
     "output_type": "display_data"
    },
    {
     "name": "stdout",
     "output_type": "stream",
     "text": [
      "F1 Score: 0.6906\n",
      "ROC AUC Score: 0.8146\n",
      "Specificity Score: 0.6300\n",
      "Sensitivity Score: 0.8889\n",
      "Accuracy Score: 0.7208\n",
      "Precision Recall AUC Score: 0.6900\n",
      "PPV Score: 0.5647\n",
      "NPV Score: 0.9130\n"
     ]
    }
   ],
   "source": [
    "runner = prepare_runner(config, data, label, continuous_cols, categorical_cols)\n",
    "\n",
    "runner.train()\n",
    "\n",
    "runner.init_calibrator()\n",
    "runner.test(X_test, y_test, DiabetesEvalMetric())"
   ]
  },
  {
   "cell_type": "code",
   "execution_count": 9,
   "metadata": {},
   "outputs": [
    {
     "name": "stderr",
     "output_type": "stream",
     "text": [
      "  0%|          | 0/154 [00:00<?, ?it/s]"
     ]
    },
    {
     "name": "stderr",
     "output_type": "stream",
     "text": [
      "\n"
     ]
    },
    {
     "ename": "ValueError",
     "evalue": "('Target', 'target', 'present in query instance')",
     "output_type": "error",
     "traceback": [
      "\u001b[0;31m---------------------------------------------------------------------------\u001b[0m",
      "\u001b[0;31mValueError\u001b[0m                                Traceback (most recent call last)",
      "\u001b[1;32m/workspace/dev/example.ipynb Cell 9\u001b[0m line \u001b[0;36m1\n\u001b[0;32m----> <a href='vscode-notebook-cell://ssh-remote%2Bjamia/workspace/dev/example.ipynb#X11sdnNjb2RlLXJlbW90ZQ%3D%3D?line=0'>1</a>\u001b[0m runner\u001b[39m.\u001b[39;49mdice(X_test)\n",
      "File \u001b[0;32m/workspace/dev/runner/runner.py:323\u001b[0m, in \u001b[0;36mRunner.dice\u001b[0;34m(self, X_test)\u001b[0m\n\u001b[1;32m    320\u001b[0m \u001b[39m# DiCE explanation instance\u001b[39;00m\n\u001b[1;32m    321\u001b[0m exp \u001b[39m=\u001b[39m dice_ml\u001b[39m.\u001b[39mDice(d,m)\n\u001b[0;32m--> 323\u001b[0m dice_exp \u001b[39m=\u001b[39m exp\u001b[39m.\u001b[39;49mgenerate_counterfactuals(X_test, total_CFs\u001b[39m=\u001b[39;49m\u001b[39mself\u001b[39;49m\u001b[39m.\u001b[39;49mconfig\u001b[39m.\u001b[39;49mdice\u001b[39m.\u001b[39;49mtotal_CFs, desired_class\u001b[39m=\u001b[39;49m\u001b[39mself\u001b[39;49m\u001b[39m.\u001b[39;49mconfig\u001b[39m.\u001b[39;49mdice\u001b[39m.\u001b[39;49mdesired_class, \u001b[39m*\u001b[39;49m\u001b[39m*\u001b[39;49m\u001b[39mself\u001b[39;49m\u001b[39m.\u001b[39;49mconfig\u001b[39m.\u001b[39;49mdice\u001b[39m.\u001b[39;49madditional_kwargs)\n\u001b[1;32m    324\u001b[0m \u001b[39m# Visualize counterfactual explanation\u001b[39;00m\n\u001b[1;32m    325\u001b[0m dice_exp\u001b[39m.\u001b[39mvisualize_as_dataframe()\n",
      "File \u001b[0;32m~/.conda/envs/jamia/lib/python3.8/site-packages/dice_ml/explainer_interfaces/explainer_base.py:161\u001b[0m, in \u001b[0;36mExplainerBase.generate_counterfactuals\u001b[0;34m(self, query_instances, total_CFs, desired_class, desired_range, permitted_range, features_to_vary, stopping_threshold, posthoc_sparsity_param, proximity_weight, sparsity_weight, diversity_weight, categorical_penalty, posthoc_sparsity_algorithm, verbose, **kwargs)\u001b[0m\n\u001b[1;32m    159\u001b[0m \u001b[39mfor\u001b[39;00m query_instance \u001b[39min\u001b[39;00m tqdm(query_instances_list):\n\u001b[1;32m    160\u001b[0m     \u001b[39mself\u001b[39m\u001b[39m.\u001b[39mdata_interface\u001b[39m.\u001b[39mset_continuous_feature_indexes(query_instance)\n\u001b[0;32m--> 161\u001b[0m     res \u001b[39m=\u001b[39m \u001b[39mself\u001b[39;49m\u001b[39m.\u001b[39;49m_generate_counterfactuals(\n\u001b[1;32m    162\u001b[0m         query_instance, total_CFs,\n\u001b[1;32m    163\u001b[0m         desired_class\u001b[39m=\u001b[39;49mdesired_class,\n\u001b[1;32m    164\u001b[0m         desired_range\u001b[39m=\u001b[39;49mdesired_range,\n\u001b[1;32m    165\u001b[0m         permitted_range\u001b[39m=\u001b[39;49mpermitted_range,\n\u001b[1;32m    166\u001b[0m         features_to_vary\u001b[39m=\u001b[39;49mfeatures_to_vary,\n\u001b[1;32m    167\u001b[0m         stopping_threshold\u001b[39m=\u001b[39;49mstopping_threshold,\n\u001b[1;32m    168\u001b[0m         posthoc_sparsity_param\u001b[39m=\u001b[39;49mposthoc_sparsity_param,\n\u001b[1;32m    169\u001b[0m         posthoc_sparsity_algorithm\u001b[39m=\u001b[39;49mposthoc_sparsity_algorithm,\n\u001b[1;32m    170\u001b[0m         verbose\u001b[39m=\u001b[39;49mverbose,\n\u001b[1;32m    171\u001b[0m         \u001b[39m*\u001b[39;49m\u001b[39m*\u001b[39;49mkwargs)\n\u001b[1;32m    172\u001b[0m     cf_examples_arr\u001b[39m.\u001b[39mappend(res)\n\u001b[1;32m    173\u001b[0m \u001b[39mself\u001b[39m\u001b[39m.\u001b[39m_check_any_counterfactuals_computed(cf_examples_arr\u001b[39m=\u001b[39mcf_examples_arr)\n",
      "File \u001b[0;32m~/.conda/envs/jamia/lib/python3.8/site-packages/dice_ml/explainer_interfaces/dice_random.py:66\u001b[0m, in \u001b[0;36mDiceRandom._generate_counterfactuals\u001b[0;34m(self, query_instance, total_CFs, desired_range, desired_class, permitted_range, features_to_vary, stopping_threshold, posthoc_sparsity_param, posthoc_sparsity_algorithm, sample_size, random_seed, verbose, limit_steps_ls)\u001b[0m\n\u001b[1;32m     38\u001b[0m \u001b[39mdef\u001b[39;00m \u001b[39m_generate_counterfactuals\u001b[39m(\u001b[39mself\u001b[39m, query_instance, total_CFs, desired_range\u001b[39m=\u001b[39m\u001b[39mNone\u001b[39;00m,\n\u001b[1;32m     39\u001b[0m                               desired_class\u001b[39m=\u001b[39m\u001b[39m\"\u001b[39m\u001b[39mopposite\u001b[39m\u001b[39m\"\u001b[39m, permitted_range\u001b[39m=\u001b[39m\u001b[39mNone\u001b[39;00m,\n\u001b[1;32m     40\u001b[0m                               features_to_vary\u001b[39m=\u001b[39m\u001b[39m\"\u001b[39m\u001b[39mall\u001b[39m\u001b[39m\"\u001b[39m, stopping_threshold\u001b[39m=\u001b[39m\u001b[39m0.5\u001b[39m, posthoc_sparsity_param\u001b[39m=\u001b[39m\u001b[39m0.1\u001b[39m,\n\u001b[1;32m     41\u001b[0m                               posthoc_sparsity_algorithm\u001b[39m=\u001b[39m\u001b[39m\"\u001b[39m\u001b[39mlinear\u001b[39m\u001b[39m\"\u001b[39m, sample_size\u001b[39m=\u001b[39m\u001b[39m1000\u001b[39m, random_seed\u001b[39m=\u001b[39m\u001b[39mNone\u001b[39;00m, verbose\u001b[39m=\u001b[39m\u001b[39mFalse\u001b[39;00m,\n\u001b[1;32m     42\u001b[0m                               limit_steps_ls\u001b[39m=\u001b[39m\u001b[39m10000\u001b[39m):\n\u001b[1;32m     43\u001b[0m \u001b[39m    \u001b[39m\u001b[39m\"\"\"Generate counterfactuals by randomly sampling features.\u001b[39;00m\n\u001b[1;32m     44\u001b[0m \n\u001b[1;32m     45\u001b[0m \u001b[39m    :param query_instance: Test point of interest. A dictionary of feature names and values or a single row dataframe.\u001b[39;00m\n\u001b[0;32m   (...)\u001b[0m\n\u001b[1;32m     64\u001b[0m \u001b[39m    :returns: A CounterfactualExamples object that contains the dataframe of generated counterfactuals as an attribute.\u001b[39;00m\n\u001b[1;32m     65\u001b[0m \u001b[39m    \"\"\"\u001b[39;00m\n\u001b[0;32m---> 66\u001b[0m     \u001b[39mself\u001b[39m\u001b[39m.\u001b[39mfeatures_to_vary \u001b[39m=\u001b[39m \u001b[39mself\u001b[39;49m\u001b[39m.\u001b[39;49msetup(features_to_vary, permitted_range, query_instance, feature_weights\u001b[39m=\u001b[39;49m\u001b[39mNone\u001b[39;49;00m)\n\u001b[1;32m     68\u001b[0m     \u001b[39mif\u001b[39;00m features_to_vary \u001b[39m==\u001b[39m \u001b[39m\"\u001b[39m\u001b[39mall\u001b[39m\u001b[39m\"\u001b[39m:\n\u001b[1;32m     69\u001b[0m         \u001b[39mself\u001b[39m\u001b[39m.\u001b[39mfixed_features_values \u001b[39m=\u001b[39m {}\n",
      "File \u001b[0;32m~/.conda/envs/jamia/lib/python3.8/site-packages/dice_ml/explainer_interfaces/explainer_base.py:226\u001b[0m, in \u001b[0;36mExplainerBase.setup\u001b[0;34m(self, features_to_vary, permitted_range, query_instance, feature_weights)\u001b[0m\n\u001b[1;32m    223\u001b[0m \u001b[39melse\u001b[39;00m:  \u001b[39m# compute the new ranges based on user input\u001b[39;00m\n\u001b[1;32m    224\u001b[0m     \u001b[39mself\u001b[39m\u001b[39m.\u001b[39mfeature_range, feature_ranges_orig \u001b[39m=\u001b[39m \u001b[39mself\u001b[39m\u001b[39m.\u001b[39mdata_interface\u001b[39m.\u001b[39mget_features_range(permitted_range)\n\u001b[0;32m--> 226\u001b[0m \u001b[39mself\u001b[39;49m\u001b[39m.\u001b[39;49mcheck_query_instance_validity(features_to_vary, permitted_range, query_instance, feature_ranges_orig)\n\u001b[1;32m    228\u001b[0m \u001b[39mreturn\u001b[39;00m features_to_vary\n",
      "File \u001b[0;32m~/.conda/envs/jamia/lib/python3.8/site-packages/dice_ml/explainer_interfaces/explainer_base.py:233\u001b[0m, in \u001b[0;36mExplainerBase.check_query_instance_validity\u001b[0;34m(self, features_to_vary, permitted_range, query_instance, feature_ranges_orig)\u001b[0m\n\u001b[1;32m    231\u001b[0m \u001b[39mfor\u001b[39;00m feature \u001b[39min\u001b[39;00m query_instance:\n\u001b[1;32m    232\u001b[0m     \u001b[39mif\u001b[39;00m feature \u001b[39m==\u001b[39m \u001b[39mself\u001b[39m\u001b[39m.\u001b[39mdata_interface\u001b[39m.\u001b[39moutcome_name:\n\u001b[0;32m--> 233\u001b[0m         \u001b[39mraise\u001b[39;00m \u001b[39mValueError\u001b[39;00m(\u001b[39m\"\u001b[39m\u001b[39mTarget\u001b[39m\u001b[39m\"\u001b[39m, \u001b[39mself\u001b[39m\u001b[39m.\u001b[39mdata_interface\u001b[39m.\u001b[39moutcome_name, \u001b[39m\"\u001b[39m\u001b[39mpresent in query instance\u001b[39m\u001b[39m\"\u001b[39m)\n\u001b[1;32m    235\u001b[0m     \u001b[39mif\u001b[39;00m feature \u001b[39mnot\u001b[39;00m \u001b[39min\u001b[39;00m \u001b[39mself\u001b[39m\u001b[39m.\u001b[39mdata_interface\u001b[39m.\u001b[39mfeature_names:\n\u001b[1;32m    236\u001b[0m         \u001b[39mraise\u001b[39;00m \u001b[39mValueError\u001b[39;00m(\u001b[39m\"\u001b[39m\u001b[39mFeature\u001b[39m\u001b[39m\"\u001b[39m, feature, \u001b[39m\"\u001b[39m\u001b[39mnot present in training data!\u001b[39m\u001b[39m\"\u001b[39m)\n",
      "\u001b[0;31mValueError\u001b[0m: ('Target', 'target', 'present in query instance')"
     ]
    }
   ],
   "source": [
    "runner.dice(X_test)"
   ]
  },
  {
   "cell_type": "code",
   "execution_count": null,
   "metadata": {},
   "outputs": [],
   "source": [
    "del data[\"target\"]"
   ]
  },
  {
   "cell_type": "code",
   "execution_count": 10,
   "metadata": {},
   "outputs": [],
   "source": [
    "import lime\n",
    "import lime.lime_tabular\n",
    "explainer = lime.lime_tabular.LimeTabularExplainer(data.values, feature_names=data.columns, class_names=[\"0\", \"1\"], verbose=True, mode='classification', discretize_continuous=True)"
   ]
  },
  {
   "cell_type": "code",
   "execution_count": 11,
   "metadata": {},
   "outputs": [
    {
     "data": {
      "text/plain": [
       "(614, 8)"
      ]
     },
     "execution_count": 11,
     "metadata": {},
     "output_type": "execute_result"
    }
   ],
   "source": [
    "data.shape"
   ]
  },
  {
   "cell_type": "code",
   "execution_count": 12,
   "metadata": {},
   "outputs": [
    {
     "data": {
      "text/plain": [
       "array(['preg', 'plas', 'pres', 'skin', 'insu', 'mass', 'pedi', 'age'],\n",
       "      dtype=object)"
      ]
     },
     "execution_count": 12,
     "metadata": {},
     "output_type": "execute_result"
    }
   ],
   "source": [
    "X_test.drop(['target'], axis=1).iloc[0].index.values"
   ]
  },
  {
   "cell_type": "code",
   "execution_count": 18,
   "metadata": {},
   "outputs": [
    {
     "ename": "AttributeError",
     "evalue": "'numpy.ndarray' object has no attribute 'columns'",
     "output_type": "error",
     "traceback": [
      "\u001b[0;31m---------------------------------------------------------------------------\u001b[0m",
      "\u001b[0;31mAttributeError\u001b[0m                            Traceback (most recent call last)",
      "\u001b[1;32m/workspace/dev/example.ipynb Cell 14\u001b[0m line \u001b[0;36m1\n\u001b[0;32m----> <a href='vscode-notebook-cell://ssh-remote%2Bjamia/workspace/dev/example.ipynb#X60sdnNjb2RlLXJlbW90ZQ%3D%3D?line=0'>1</a>\u001b[0m runner\u001b[39m.\u001b[39;49mmodel\u001b[39m.\u001b[39;49mmodel\u001b[39m.\u001b[39;49mpredict(X_test\u001b[39m.\u001b[39;49mdrop([\u001b[39m'\u001b[39;49m\u001b[39mtarget\u001b[39;49m\u001b[39m'\u001b[39;49m], axis\u001b[39m=\u001b[39;49m\u001b[39m1\u001b[39;49m)\u001b[39m.\u001b[39;49miloc[\u001b[39m0\u001b[39;49m]\u001b[39m.\u001b[39;49mvalues)\n",
      "File \u001b[0;32m~/.conda/envs/jamia/lib/python3.8/site-packages/pytorch_tabular/tabular_model.py:1173\u001b[0m, in \u001b[0;36mTabularModel.predict\u001b[0;34m(self, test, quantiles, n_samples, ret_logits, include_input_features, device)\u001b[0m\n\u001b[1;32m   1171\u001b[0m     model \u001b[39m=\u001b[39m \u001b[39mself\u001b[39m\u001b[39m.\u001b[39mmodel\n\u001b[1;32m   1172\u001b[0m model\u001b[39m.\u001b[39meval()\n\u001b[0;32m-> 1173\u001b[0m inference_dataloader \u001b[39m=\u001b[39m \u001b[39mself\u001b[39;49m\u001b[39m.\u001b[39;49mdatamodule\u001b[39m.\u001b[39;49mprepare_inference_dataloader(test)\n\u001b[1;32m   1174\u001b[0m point_predictions \u001b[39m=\u001b[39m []\n\u001b[1;32m   1175\u001b[0m quantile_predictions \u001b[39m=\u001b[39m []\n",
      "File \u001b[0;32m~/.conda/envs/jamia/lib/python3.8/site-packages/pytorch_tabular/tabular_datamodule.py:603\u001b[0m, in \u001b[0;36mTabularDatamodule.prepare_inference_dataloader\u001b[0;34m(self, df, batch_size)\u001b[0m\n\u001b[1;32m    593\u001b[0m \u001b[39m\u001b[39m\u001b[39m\"\"\"Function that prepares and loads the new data.\u001b[39;00m\n\u001b[1;32m    594\u001b[0m \n\u001b[1;32m    595\u001b[0m \u001b[39mArgs:\u001b[39;00m\n\u001b[0;32m   (...)\u001b[0m\n\u001b[1;32m    600\u001b[0m \u001b[39m    DataLoader: The dataloader for the passed in dataframe\u001b[39;00m\n\u001b[1;32m    601\u001b[0m \u001b[39m\"\"\"\u001b[39;00m\n\u001b[1;32m    602\u001b[0m df \u001b[39m=\u001b[39m df\u001b[39m.\u001b[39mcopy()\n\u001b[0;32m--> 603\u001b[0m df \u001b[39m=\u001b[39m \u001b[39mself\u001b[39;49m\u001b[39m.\u001b[39;49m_prepare_inference_data(df)\n\u001b[1;32m    604\u001b[0m dataset \u001b[39m=\u001b[39m TabularDataset(\n\u001b[1;32m    605\u001b[0m     task\u001b[39m=\u001b[39m\u001b[39mself\u001b[39m\u001b[39m.\u001b[39mconfig\u001b[39m.\u001b[39mtask,\n\u001b[1;32m    606\u001b[0m     data\u001b[39m=\u001b[39mdf,\n\u001b[0;32m   (...)\u001b[0m\n\u001b[1;32m    610\u001b[0m     target\u001b[39m=\u001b[39m\u001b[39mself\u001b[39m\u001b[39m.\u001b[39mtarget \u001b[39mif\u001b[39;00m \u001b[39mall\u001b[39m(col \u001b[39min\u001b[39;00m df\u001b[39m.\u001b[39mcolumns \u001b[39mfor\u001b[39;00m col \u001b[39min\u001b[39;00m \u001b[39mself\u001b[39m\u001b[39m.\u001b[39mtarget) \u001b[39melse\u001b[39;00m \u001b[39mNone\u001b[39;00m,\n\u001b[1;32m    611\u001b[0m )\n\u001b[1;32m    612\u001b[0m \u001b[39mreturn\u001b[39;00m DataLoader(\n\u001b[1;32m    613\u001b[0m     dataset,\n\u001b[1;32m    614\u001b[0m     batch_size \u001b[39mif\u001b[39;00m batch_size \u001b[39mis\u001b[39;00m \u001b[39mnot\u001b[39;00m \u001b[39mNone\u001b[39;00m \u001b[39melse\u001b[39;00m \u001b[39mself\u001b[39m\u001b[39m.\u001b[39mbatch_size,\n\u001b[1;32m    615\u001b[0m     shuffle\u001b[39m=\u001b[39m\u001b[39mFalse\u001b[39;00m,\n\u001b[1;32m    616\u001b[0m     num_workers\u001b[39m=\u001b[39m\u001b[39mself\u001b[39m\u001b[39m.\u001b[39mconfig\u001b[39m.\u001b[39mnum_workers,\n\u001b[1;32m    617\u001b[0m )\n",
      "File \u001b[0;32m~/.conda/envs/jamia/lib/python3.8/site-packages/pytorch_tabular/tabular_datamodule.py:584\u001b[0m, in \u001b[0;36mTabularDatamodule._prepare_inference_data\u001b[0;34m(self, df)\u001b[0m\n\u001b[1;32m    582\u001b[0m \u001b[39m\u001b[39m\u001b[39m\"\"\"Prepare data for inference.\"\"\"\u001b[39;00m\n\u001b[1;32m    583\u001b[0m \u001b[39m# TODO Is the target encoding necessary?\u001b[39;00m\n\u001b[0;32m--> 584\u001b[0m \u001b[39mif\u001b[39;00m \u001b[39mlen\u001b[39m(\u001b[39mset\u001b[39m(\u001b[39mself\u001b[39m\u001b[39m.\u001b[39mtarget) \u001b[39m-\u001b[39m \u001b[39mset\u001b[39m(df\u001b[39m.\u001b[39;49mcolumns)) \u001b[39m>\u001b[39m \u001b[39m0\u001b[39m:\n\u001b[1;32m    585\u001b[0m     \u001b[39mif\u001b[39;00m \u001b[39mself\u001b[39m\u001b[39m.\u001b[39mconfig\u001b[39m.\u001b[39mtask \u001b[39m==\u001b[39m \u001b[39m\"\u001b[39m\u001b[39mclassification\u001b[39m\u001b[39m\"\u001b[39m:\n\u001b[1;32m    586\u001b[0m         df\u001b[39m.\u001b[39mloc[:, \u001b[39mself\u001b[39m\u001b[39m.\u001b[39mtarget] \u001b[39m=\u001b[39m np\u001b[39m.\u001b[39marray([\u001b[39mself\u001b[39m\u001b[39m.\u001b[39mlabel_encoder\u001b[39m.\u001b[39mclasses_[\u001b[39m0\u001b[39m]] \u001b[39m*\u001b[39m \u001b[39mlen\u001b[39m(df))\u001b[39m.\u001b[39mreshape(\u001b[39m-\u001b[39m\u001b[39m1\u001b[39m, \u001b[39m1\u001b[39m)\n",
      "\u001b[0;31mAttributeError\u001b[0m: 'numpy.ndarray' object has no attribute 'columns'"
     ]
    }
   ],
   "source": [
    "runner.model.model.predict(X_test.drop(['target'], axis=1).iloc[0].values)"
   ]
  },
  {
   "cell_type": "code",
   "execution_count": 13,
   "metadata": {},
   "outputs": [
    {
     "name": "stdout",
     "output_type": "stream",
     "text": [
      "<class 'numpy.ndarray'> (5000, 8)\n"
     ]
    },
    {
     "ename": "IndexError",
     "evalue": "only integers, slices (`:`), ellipsis (`...`), numpy.newaxis (`None`) and integer or boolean arrays are valid indices",
     "output_type": "error",
     "traceback": [
      "\u001b[0;31m---------------------------------------------------------------------------\u001b[0m",
      "\u001b[0;31mIndexError\u001b[0m                                Traceback (most recent call last)",
      "\u001b[1;32m/workspace/dev/example.ipynb Cell 14\u001b[0m line \u001b[0;36m1\n\u001b[0;32m----> <a href='vscode-notebook-cell://ssh-remote%2Bjamia/workspace/dev/example.ipynb#X33sdnNjb2RlLXJlbW90ZQ%3D%3D?line=0'>1</a>\u001b[0m exp \u001b[39m=\u001b[39m explainer\u001b[39m.\u001b[39;49mexplain_instance(X_test\u001b[39m.\u001b[39;49mdrop([\u001b[39m'\u001b[39;49m\u001b[39mtarget\u001b[39;49m\u001b[39m'\u001b[39;49m], axis\u001b[39m=\u001b[39;49m\u001b[39m1\u001b[39;49m)\u001b[39m.\u001b[39;49miloc[\u001b[39m0\u001b[39;49m], runner\u001b[39m.\u001b[39;49mmodel\u001b[39m.\u001b[39;49mpredict_proba, num_features\u001b[39m=\u001b[39;49m\u001b[39m10\u001b[39;49m)\n\u001b[1;32m      <a href='vscode-notebook-cell://ssh-remote%2Bjamia/workspace/dev/example.ipynb#X33sdnNjb2RlLXJlbW90ZQ%3D%3D?line=1'>2</a>\u001b[0m exp\u001b[39m.\u001b[39mshow_in_notebook(show_table\u001b[39m=\u001b[39m\u001b[39mTrue\u001b[39;00m)\n",
      "File \u001b[0;32m~/.conda/envs/jamia/lib/python3.8/site-packages/lime/lime_tabular.py:355\u001b[0m, in \u001b[0;36mLimeTabularExplainer.explain_instance\u001b[0;34m(self, data_row, predict_fn, labels, top_labels, num_features, num_samples, distance_metric, model_regressor)\u001b[0m\n\u001b[1;32m    348\u001b[0m     scaled_data \u001b[39m=\u001b[39m (data \u001b[39m-\u001b[39m \u001b[39mself\u001b[39m\u001b[39m.\u001b[39mscaler\u001b[39m.\u001b[39mmean_) \u001b[39m/\u001b[39m \u001b[39mself\u001b[39m\u001b[39m.\u001b[39mscaler\u001b[39m.\u001b[39mscale_\n\u001b[1;32m    349\u001b[0m distances \u001b[39m=\u001b[39m sklearn\u001b[39m.\u001b[39mmetrics\u001b[39m.\u001b[39mpairwise_distances(\n\u001b[1;32m    350\u001b[0m         scaled_data,\n\u001b[1;32m    351\u001b[0m         scaled_data[\u001b[39m0\u001b[39m]\u001b[39m.\u001b[39mreshape(\u001b[39m1\u001b[39m, \u001b[39m-\u001b[39m\u001b[39m1\u001b[39m),\n\u001b[1;32m    352\u001b[0m         metric\u001b[39m=\u001b[39mdistance_metric\n\u001b[1;32m    353\u001b[0m )\u001b[39m.\u001b[39mravel()\n\u001b[0;32m--> 355\u001b[0m yss \u001b[39m=\u001b[39m predict_fn(inverse)\n\u001b[1;32m    357\u001b[0m \u001b[39m# for classification, the model needs to provide a list of tuples - classes\u001b[39;00m\n\u001b[1;32m    358\u001b[0m \u001b[39m# along with prediction probabilities\u001b[39;00m\n\u001b[1;32m    359\u001b[0m \u001b[39mif\u001b[39;00m \u001b[39mself\u001b[39m\u001b[39m.\u001b[39mmode \u001b[39m==\u001b[39m \u001b[39m\"\u001b[39m\u001b[39mclassification\u001b[39m\u001b[39m\"\u001b[39m:\n",
      "File \u001b[0;32m/workspace/dev/runner/models/pytorch_tabular_base.py:156\u001b[0m, in \u001b[0;36mPytorchTabularBase.predict_proba\u001b[0;34m(self, X_test)\u001b[0m\n\u001b[1;32m    155\u001b[0m \u001b[39mdef\u001b[39;00m \u001b[39mpredict_proba\u001b[39m(\u001b[39mself\u001b[39m, X_test: pd\u001b[39m.\u001b[39mDataFrame) \u001b[39m-\u001b[39m\u001b[39m>\u001b[39m np\u001b[39m.\u001b[39marray:\n\u001b[0;32m--> 156\u001b[0m     \u001b[39mreturn\u001b[39;00m \u001b[39mself\u001b[39;49m\u001b[39m.\u001b[39;49mpredict(X_test, \u001b[39mTrue\u001b[39;49;00m)\n",
      "File \u001b[0;32m/workspace/dev/runner/models/pytorch_tabular_base.py:141\u001b[0m, in \u001b[0;36mPytorchTabularBase.predict\u001b[0;34m(self, X_test, return_proba)\u001b[0m\n\u001b[1;32m    139\u001b[0m     X_test \u001b[39m=\u001b[39m pd\u001b[39m.\u001b[39mDataFrame(X_test\u001b[39m.\u001b[39mvalues\u001b[39m.\u001b[39mreshape((\u001b[39m-\u001b[39m\u001b[39m1\u001b[39m, X_test\u001b[39m.\u001b[39mshape[\u001b[39m-\u001b[39m\u001b[39m1\u001b[39m])), columns \u001b[39m=\u001b[39m \u001b[39mlist\u001b[39m(\u001b[39mmap\u001b[39m(\u001b[39mstr\u001b[39m, X_test\u001b[39m.\u001b[39mindex\u001b[39m.\u001b[39mvalues)))\n\u001b[1;32m    140\u001b[0m \u001b[39mprint\u001b[39m(\u001b[39mtype\u001b[39m(X_test), X_test\u001b[39m.\u001b[39mshape)            \n\u001b[0;32m--> 141\u001b[0m X_test[\u001b[39m'\u001b[39;49m\u001b[39mtarget\u001b[39;49m\u001b[39m'\u001b[39;49m] \u001b[39m=\u001b[39m [\u001b[39m0\u001b[39m \u001b[39mfor\u001b[39;00m _ \u001b[39min\u001b[39;00m \u001b[39mrange\u001b[39m(\u001b[39mlen\u001b[39m(X_test))]\n\u001b[1;32m    143\u001b[0m preds \u001b[39m=\u001b[39m \u001b[39mself\u001b[39m\u001b[39m.\u001b[39mmodel\u001b[39m.\u001b[39mpredict(X_test)\n\u001b[1;32m    144\u001b[0m preds, cnt \u001b[39m=\u001b[39m \u001b[39mself\u001b[39m\u001b[39m.\u001b[39mrename_prob_cols(preds)\n",
      "\u001b[0;31mIndexError\u001b[0m: only integers, slices (`:`), ellipsis (`...`), numpy.newaxis (`None`) and integer or boolean arrays are valid indices"
     ]
    }
   ],
   "source": [
    "exp = explainer.explain_instance(X_test.drop(['target'], axis=1).iloc[0], runner.predict_proba, num_features=10)\n",
    "exp.show_in_notebook(show_table=True)"
   ]
  },
  {
   "cell_type": "code",
   "execution_count": null,
   "metadata": {},
   "outputs": [
    {
     "data": {
      "text/plain": [
       "True"
      ]
     },
     "execution_count": 16,
     "metadata": {},
     "output_type": "execute_result"
    }
   ],
   "source": [
    "type(X_test.drop(['target'], axis=1).iloc[0]) == pd.Series"
   ]
  },
  {
   "cell_type": "code",
   "execution_count": null,
   "metadata": {},
   "outputs": [],
   "source": [
    "temp = pd.DataFrame(X_test.drop(['target'], axis=1).iloc[0].values.reshape((1, -1)), columns = list(map(str, X_test.drop(['target'], axis=1).iloc[0].index.values)))"
   ]
  },
  {
   "cell_type": "code",
   "execution_count": null,
   "metadata": {},
   "outputs": [],
   "source": [
    "temp['target'] = [0 for i in range(len(temp))]"
   ]
  },
  {
   "cell_type": "code",
   "execution_count": null,
   "metadata": {},
   "outputs": [],
   "source": [
    "exp.save_to_file('temp.html')"
   ]
  }
 ],
 "metadata": {
  "kernelspec": {
   "display_name": "jamia",
   "language": "python",
   "name": "python3"
  },
  "language_info": {
   "codemirror_mode": {
    "name": "ipython",
    "version": 3
   },
   "file_extension": ".py",
   "mimetype": "text/x-python",
   "name": "python",
   "nbconvert_exporter": "python",
   "pygments_lexer": "ipython3",
   "version": "3.8.16"
  }
 },
 "nbformat": 4,
 "nbformat_minor": 2
}
